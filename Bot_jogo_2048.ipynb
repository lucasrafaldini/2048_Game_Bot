{
 "cells": [
  {
   "cell_type": "markdown",
   "metadata": {},
   "source": [
    "# Bot em Python para o Jogo 2048"
   ]
  },
  {
   "cell_type": "markdown",
   "metadata": {},
   "source": [
    "Antes de tudo, você precisa conhecer o jogo. Então, caso você nunca tenha jogado 2048 e está aqui somente procurando um novo projeto em Python para programar, entre em http://2048game.com/ e jogue um pouco. Entenda as regras do jogo e depois podemos começar o nosso bot."
   ]
  },
  {
   "cell_type": "markdown",
   "metadata": {},
   "source": [
    "Esse Jupyter Notebook foi feito para que você possa programar o seu bot em python sem muita dificuldade, com um material em português e aprendendo o que cada passo determina dentro do corpo do programa que está sendo escrito."
   ]
  },
  {
   "cell_type": "markdown",
   "metadata": {},
   "source": [
    "Para escrevermos esse bot, vamos precisar de duas bibliotecas bastante comuns de Python. Reserve um pouco do seu tempo para ler a documentaçao dessas libs, você vai me agradecer mais tarde. Por estarmos fazendo um bot do zero, sem nenhum tipo de lib ou interface voltada para a criação de bots, as bibliotecas usadas são pensadas para outras aplicações e ter esse primeiro contato com elas vai te tornar um programador mais completo (isso se você ler as documentções, é claro)."
   ]
  },
  {
   "cell_type": "markdown",
   "metadata": {},
   "source": [
    "# Bibliotecas"
   ]
  },
  {
   "cell_type": "markdown",
   "metadata": {},
   "source": [
    "<a PIL ref="
   ]
  },
  {
   "cell_type": "code",
   "execution_count": null,
   "metadata": {
    "collapsed": true
   },
   "outputs": [],
   "source": []
  }
 ],
 "metadata": {
  "kernelspec": {
   "display_name": "Python 3",
   "language": "python",
   "name": "python3"
  },
  "language_info": {
   "codemirror_mode": {
    "name": "ipython",
    "version": 3
   },
   "file_extension": ".py",
   "mimetype": "text/x-python",
   "name": "python",
   "nbconvert_exporter": "python",
   "pygments_lexer": "ipython3",
   "version": "3.6.3"
  }
 },
 "nbformat": 4,
 "nbformat_minor": 2
}
